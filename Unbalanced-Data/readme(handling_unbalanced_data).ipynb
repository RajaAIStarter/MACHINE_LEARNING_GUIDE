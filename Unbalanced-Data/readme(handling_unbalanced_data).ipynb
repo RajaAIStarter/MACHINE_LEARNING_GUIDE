{
  "cells": [
    {
      "cell_type": "markdown",
      "source": [
        "**Before you dive into the implementations, I highly recommend first learning the heart of each algorithm—its core idea and how it works. You can explore this through YouTube tutorials, books, or online courses. This repository is meant to complement that knowledge by showing how to translate concepts into working code.**\n",
        "\n",
        "# Handling Unbalanced Datasets\n",
        "\n",
        "This project focuses on addressing the challenges of **unbalanced datasets** in machine learning. Unbalanced datasets occur when one class significantly outnumbers the other(s), leading to biased models that perform poorly on minority classes. This notebook demonstrates various techniques to handle unbalanced datasets, including **undersampling**, **oversampling**, **SMOTE**, **ensemble methods**, and **Focal Loss**.\n",
        "\n",
        "\n",
        "## **Techniques Covered**\n",
        "\n",
        "### **1. Undersampling**\n",
        "- **What it does**: Reduces the number of instances in the majority class to balance the dataset.\n",
        "- **Methods**:\n",
        "  - Random Undersampling\n",
        "  - Cluster Centroids\n",
        "  - Tomek Links\n",
        "- **Pros**: Simple and reduces computational cost.\n",
        "- **Cons**: May lead to loss of important information.\n",
        "\n",
        "### **2. Oversampling**\n",
        "- **What it does**: Increases the number of instances in the minority class to balance the dataset.\n",
        "- **Methods**:\n",
        "  - Random Oversampling\n",
        "  - SMOTE (Synthetic Minority Oversampling Technique)\n",
        "  - ADASYN (Adaptive Synthetic Sampling)\n",
        "- **Pros**: Improves minority class representation.\n",
        "- **Cons**: Can lead to overfitting.\n",
        "\n",
        "### **3. SMOTE (Synthetic Minority Oversampling Technique)**\n",
        "- **What it does**: Generates synthetic samples for the minority class by interpolating between existing samples.\n",
        "- **Formula**: $ x_{\\text{new}} = x_i + \\lambda \\cdot (x_j - x_i) $\n",
        "- **Pros**: Reduces overfitting compared to random oversampling.\n",
        "- **Cons**: Can create noisy samples.\n",
        "\n",
        "### **4. Ensemble Methods**\n",
        "- **What it does**: Combines multiple models to improve performance on minority classes.\n",
        "- **Methods**:\n",
        "  - Balanced Random Forest\n",
        "  - EasyEnsemble\n",
        "  - XGBoost with `scale_pos_weight`\n",
        "- **Pros**: Robust and effective for imbalanced datasets.\n",
        "- **Cons**: Computationally expensive.\n",
        "\n",
        "### **5. Focal Loss**\n",
        "- **What it does**: A loss function that focuses on hard-to-classify examples and handles class imbalance.\n",
        "- **Formula**: $ \\text{FL}(p_t) = -\\alpha_t (1 - p_t)^\\gamma \\log(p_t) $\n",
        "- **Pros**: Improves performance on minority classes.\n",
        "- **Cons**: Requires tuning of $\\gamma$ and $\\alpha$ parameters.\n",
        "\n",
        "\n",
        "## **Notebook Overview**\n",
        "\n",
        "The notebook demonstrates the following techniques:\n",
        "\n",
        "1. **Undersampling**:\n",
        "   - Random Undersampling\n",
        "\n",
        "2. **Oversampling**:\n",
        "   - Random Oversampling\n",
        "   - SMOTE\n",
        "\n",
        "3. **SMOTE + Ensemble Methods**:\n",
        "   - SMOTE + Logistic Regression\n",
        "   - SMOTE + Balanced Random Forest\n",
        "   - SMOTE + XGBoost\n",
        "\n",
        "4. **Focal Loss**:\n",
        "   - Comparison with Cross-Entropy Loss\n",
        "\n"
      ],
      "metadata": {
        "id": "XHgTnHuOwnaB"
      }
    },
    {
      "cell_type": "code",
      "execution_count": 71,
      "metadata": {
        "id": "bRkiEvwW6OYp"
      },
      "outputs": [],
      "source": [
        "#import necessary libraries\n",
        "from sklearn.datasets import make_classification\n",
        "import pandas as pd\n",
        "from collections import Counter\n",
        "from sklearn.model_selection import train_test_split\n",
        "from sklearn.linear_model import LogisticRegression\n",
        "from sklearn.metrics import classification_report, confusion_matrix\n",
        "from imblearn.over_sampling import SMOTE\n",
        "import numpy as np"
      ]
    },
    {
      "cell_type": "code",
      "execution_count": 79,
      "metadata": {
        "colab": {
          "base_uri": "https://localhost:8080/",
          "height": 441
        },
        "id": "FoYAEgVVHh5r",
        "outputId": "a19385d4-f7d8-47e1-89c1-4a75f1559b84"
      },
      "outputs": [
        {
          "output_type": "stream",
          "name": "stdout",
          "text": [
            "Counter({0: 5674, 1: 326})\n"
          ]
        },
        {
          "output_type": "execute_result",
          "data": {
            "text/plain": [
              "            f0        f1  t\n",
              "0     1.661717 -0.439285  0\n",
              "1     0.969619  0.424131  0\n",
              "2     1.402264 -0.195857  0\n",
              "3    -0.116644 -1.692852  0\n",
              "4     1.511872 -1.183038  0\n",
              "...        ...       ... ..\n",
              "5995 -0.124438 -1.009315  0\n",
              "5996  1.254716  0.508662  0\n",
              "5997  0.266659 -0.760996  0\n",
              "5998  1.364727 -0.779099  0\n",
              "5999  0.638243 -1.448351  0\n",
              "\n",
              "[6000 rows x 3 columns]"
            ],
            "text/html": [
              "\n",
              "  <div id=\"df-7fbf9a82-dfce-4a5a-8518-6accc5b5d792\" class=\"colab-df-container\">\n",
              "    <div>\n",
              "<style scoped>\n",
              "    .dataframe tbody tr th:only-of-type {\n",
              "        vertical-align: middle;\n",
              "    }\n",
              "\n",
              "    .dataframe tbody tr th {\n",
              "        vertical-align: top;\n",
              "    }\n",
              "\n",
              "    .dataframe thead th {\n",
              "        text-align: right;\n",
              "    }\n",
              "</style>\n",
              "<table border=\"1\" class=\"dataframe\">\n",
              "  <thead>\n",
              "    <tr style=\"text-align: right;\">\n",
              "      <th></th>\n",
              "      <th>f0</th>\n",
              "      <th>f1</th>\n",
              "      <th>t</th>\n",
              "    </tr>\n",
              "  </thead>\n",
              "  <tbody>\n",
              "    <tr>\n",
              "      <th>0</th>\n",
              "      <td>1.661717</td>\n",
              "      <td>-0.439285</td>\n",
              "      <td>0</td>\n",
              "    </tr>\n",
              "    <tr>\n",
              "      <th>1</th>\n",
              "      <td>0.969619</td>\n",
              "      <td>0.424131</td>\n",
              "      <td>0</td>\n",
              "    </tr>\n",
              "    <tr>\n",
              "      <th>2</th>\n",
              "      <td>1.402264</td>\n",
              "      <td>-0.195857</td>\n",
              "      <td>0</td>\n",
              "    </tr>\n",
              "    <tr>\n",
              "      <th>3</th>\n",
              "      <td>-0.116644</td>\n",
              "      <td>-1.692852</td>\n",
              "      <td>0</td>\n",
              "    </tr>\n",
              "    <tr>\n",
              "      <th>4</th>\n",
              "      <td>1.511872</td>\n",
              "      <td>-1.183038</td>\n",
              "      <td>0</td>\n",
              "    </tr>\n",
              "    <tr>\n",
              "      <th>...</th>\n",
              "      <td>...</td>\n",
              "      <td>...</td>\n",
              "      <td>...</td>\n",
              "    </tr>\n",
              "    <tr>\n",
              "      <th>5995</th>\n",
              "      <td>-0.124438</td>\n",
              "      <td>-1.009315</td>\n",
              "      <td>0</td>\n",
              "    </tr>\n",
              "    <tr>\n",
              "      <th>5996</th>\n",
              "      <td>1.254716</td>\n",
              "      <td>0.508662</td>\n",
              "      <td>0</td>\n",
              "    </tr>\n",
              "    <tr>\n",
              "      <th>5997</th>\n",
              "      <td>0.266659</td>\n",
              "      <td>-0.760996</td>\n",
              "      <td>0</td>\n",
              "    </tr>\n",
              "    <tr>\n",
              "      <th>5998</th>\n",
              "      <td>1.364727</td>\n",
              "      <td>-0.779099</td>\n",
              "      <td>0</td>\n",
              "    </tr>\n",
              "    <tr>\n",
              "      <th>5999</th>\n",
              "      <td>0.638243</td>\n",
              "      <td>-1.448351</td>\n",
              "      <td>0</td>\n",
              "    </tr>\n",
              "  </tbody>\n",
              "</table>\n",
              "<p>6000 rows × 3 columns</p>\n",
              "</div>\n",
              "    <div class=\"colab-df-buttons\">\n",
              "\n",
              "  <div class=\"colab-df-container\">\n",
              "    <button class=\"colab-df-convert\" onclick=\"convertToInteractive('df-7fbf9a82-dfce-4a5a-8518-6accc5b5d792')\"\n",
              "            title=\"Convert this dataframe to an interactive table.\"\n",
              "            style=\"display:none;\">\n",
              "\n",
              "  <svg xmlns=\"http://www.w3.org/2000/svg\" height=\"24px\" viewBox=\"0 -960 960 960\">\n",
              "    <path d=\"M120-120v-720h720v720H120Zm60-500h600v-160H180v160Zm220 220h160v-160H400v160Zm0 220h160v-160H400v160ZM180-400h160v-160H180v160Zm440 0h160v-160H620v160ZM180-180h160v-160H180v160Zm440 0h160v-160H620v160Z\"/>\n",
              "  </svg>\n",
              "    </button>\n",
              "\n",
              "  <style>\n",
              "    .colab-df-container {\n",
              "      display:flex;\n",
              "      gap: 12px;\n",
              "    }\n",
              "\n",
              "    .colab-df-convert {\n",
              "      background-color: #E8F0FE;\n",
              "      border: none;\n",
              "      border-radius: 50%;\n",
              "      cursor: pointer;\n",
              "      display: none;\n",
              "      fill: #1967D2;\n",
              "      height: 32px;\n",
              "      padding: 0 0 0 0;\n",
              "      width: 32px;\n",
              "    }\n",
              "\n",
              "    .colab-df-convert:hover {\n",
              "      background-color: #E2EBFA;\n",
              "      box-shadow: 0px 1px 2px rgba(60, 64, 67, 0.3), 0px 1px 3px 1px rgba(60, 64, 67, 0.15);\n",
              "      fill: #174EA6;\n",
              "    }\n",
              "\n",
              "    .colab-df-buttons div {\n",
              "      margin-bottom: 4px;\n",
              "    }\n",
              "\n",
              "    [theme=dark] .colab-df-convert {\n",
              "      background-color: #3B4455;\n",
              "      fill: #D2E3FC;\n",
              "    }\n",
              "\n",
              "    [theme=dark] .colab-df-convert:hover {\n",
              "      background-color: #434B5C;\n",
              "      box-shadow: 0px 1px 3px 1px rgba(0, 0, 0, 0.15);\n",
              "      filter: drop-shadow(0px 1px 2px rgba(0, 0, 0, 0.3));\n",
              "      fill: #FFFFFF;\n",
              "    }\n",
              "  </style>\n",
              "\n",
              "    <script>\n",
              "      const buttonEl =\n",
              "        document.querySelector('#df-7fbf9a82-dfce-4a5a-8518-6accc5b5d792 button.colab-df-convert');\n",
              "      buttonEl.style.display =\n",
              "        google.colab.kernel.accessAllowed ? 'block' : 'none';\n",
              "\n",
              "      async function convertToInteractive(key) {\n",
              "        const element = document.querySelector('#df-7fbf9a82-dfce-4a5a-8518-6accc5b5d792');\n",
              "        const dataTable =\n",
              "          await google.colab.kernel.invokeFunction('convertToInteractive',\n",
              "                                                    [key], {});\n",
              "        if (!dataTable) return;\n",
              "\n",
              "        const docLinkHtml = 'Like what you see? Visit the ' +\n",
              "          '<a target=\"_blank\" href=https://colab.research.google.com/notebooks/data_table.ipynb>data table notebook</a>'\n",
              "          + ' to learn more about interactive tables.';\n",
              "        element.innerHTML = '';\n",
              "        dataTable['output_type'] = 'display_data';\n",
              "        await google.colab.output.renderOutput(dataTable, element);\n",
              "        const docLink = document.createElement('div');\n",
              "        docLink.innerHTML = docLinkHtml;\n",
              "        element.appendChild(docLink);\n",
              "      }\n",
              "    </script>\n",
              "  </div>\n",
              "\n",
              "\n",
              "<div id=\"df-d300af99-d21e-4d5f-a9bd-e15f1e1a2f86\">\n",
              "  <button class=\"colab-df-quickchart\" onclick=\"quickchart('df-d300af99-d21e-4d5f-a9bd-e15f1e1a2f86')\"\n",
              "            title=\"Suggest charts\"\n",
              "            style=\"display:none;\">\n",
              "\n",
              "<svg xmlns=\"http://www.w3.org/2000/svg\" height=\"24px\"viewBox=\"0 0 24 24\"\n",
              "     width=\"24px\">\n",
              "    <g>\n",
              "        <path d=\"M19 3H5c-1.1 0-2 .9-2 2v14c0 1.1.9 2 2 2h14c1.1 0 2-.9 2-2V5c0-1.1-.9-2-2-2zM9 17H7v-7h2v7zm4 0h-2V7h2v10zm4 0h-2v-4h2v4z\"/>\n",
              "    </g>\n",
              "</svg>\n",
              "  </button>\n",
              "\n",
              "<style>\n",
              "  .colab-df-quickchart {\n",
              "      --bg-color: #E8F0FE;\n",
              "      --fill-color: #1967D2;\n",
              "      --hover-bg-color: #E2EBFA;\n",
              "      --hover-fill-color: #174EA6;\n",
              "      --disabled-fill-color: #AAA;\n",
              "      --disabled-bg-color: #DDD;\n",
              "  }\n",
              "\n",
              "  [theme=dark] .colab-df-quickchart {\n",
              "      --bg-color: #3B4455;\n",
              "      --fill-color: #D2E3FC;\n",
              "      --hover-bg-color: #434B5C;\n",
              "      --hover-fill-color: #FFFFFF;\n",
              "      --disabled-bg-color: #3B4455;\n",
              "      --disabled-fill-color: #666;\n",
              "  }\n",
              "\n",
              "  .colab-df-quickchart {\n",
              "    background-color: var(--bg-color);\n",
              "    border: none;\n",
              "    border-radius: 50%;\n",
              "    cursor: pointer;\n",
              "    display: none;\n",
              "    fill: var(--fill-color);\n",
              "    height: 32px;\n",
              "    padding: 0;\n",
              "    width: 32px;\n",
              "  }\n",
              "\n",
              "  .colab-df-quickchart:hover {\n",
              "    background-color: var(--hover-bg-color);\n",
              "    box-shadow: 0 1px 2px rgba(60, 64, 67, 0.3), 0 1px 3px 1px rgba(60, 64, 67, 0.15);\n",
              "    fill: var(--button-hover-fill-color);\n",
              "  }\n",
              "\n",
              "  .colab-df-quickchart-complete:disabled,\n",
              "  .colab-df-quickchart-complete:disabled:hover {\n",
              "    background-color: var(--disabled-bg-color);\n",
              "    fill: var(--disabled-fill-color);\n",
              "    box-shadow: none;\n",
              "  }\n",
              "\n",
              "  .colab-df-spinner {\n",
              "    border: 2px solid var(--fill-color);\n",
              "    border-color: transparent;\n",
              "    border-bottom-color: var(--fill-color);\n",
              "    animation:\n",
              "      spin 1s steps(1) infinite;\n",
              "  }\n",
              "\n",
              "  @keyframes spin {\n",
              "    0% {\n",
              "      border-color: transparent;\n",
              "      border-bottom-color: var(--fill-color);\n",
              "      border-left-color: var(--fill-color);\n",
              "    }\n",
              "    20% {\n",
              "      border-color: transparent;\n",
              "      border-left-color: var(--fill-color);\n",
              "      border-top-color: var(--fill-color);\n",
              "    }\n",
              "    30% {\n",
              "      border-color: transparent;\n",
              "      border-left-color: var(--fill-color);\n",
              "      border-top-color: var(--fill-color);\n",
              "      border-right-color: var(--fill-color);\n",
              "    }\n",
              "    40% {\n",
              "      border-color: transparent;\n",
              "      border-right-color: var(--fill-color);\n",
              "      border-top-color: var(--fill-color);\n",
              "    }\n",
              "    60% {\n",
              "      border-color: transparent;\n",
              "      border-right-color: var(--fill-color);\n",
              "    }\n",
              "    80% {\n",
              "      border-color: transparent;\n",
              "      border-right-color: var(--fill-color);\n",
              "      border-bottom-color: var(--fill-color);\n",
              "    }\n",
              "    90% {\n",
              "      border-color: transparent;\n",
              "      border-bottom-color: var(--fill-color);\n",
              "    }\n",
              "  }\n",
              "</style>\n",
              "\n",
              "  <script>\n",
              "    async function quickchart(key) {\n",
              "      const quickchartButtonEl =\n",
              "        document.querySelector('#' + key + ' button');\n",
              "      quickchartButtonEl.disabled = true;  // To prevent multiple clicks.\n",
              "      quickchartButtonEl.classList.add('colab-df-spinner');\n",
              "      try {\n",
              "        const charts = await google.colab.kernel.invokeFunction(\n",
              "            'suggestCharts', [key], {});\n",
              "      } catch (error) {\n",
              "        console.error('Error during call to suggestCharts:', error);\n",
              "      }\n",
              "      quickchartButtonEl.classList.remove('colab-df-spinner');\n",
              "      quickchartButtonEl.classList.add('colab-df-quickchart-complete');\n",
              "    }\n",
              "    (() => {\n",
              "      let quickchartButtonEl =\n",
              "        document.querySelector('#df-d300af99-d21e-4d5f-a9bd-e15f1e1a2f86 button');\n",
              "      quickchartButtonEl.style.display =\n",
              "        google.colab.kernel.accessAllowed ? 'block' : 'none';\n",
              "    })();\n",
              "  </script>\n",
              "</div>\n",
              "\n",
              "  <div id=\"id_e6f70f5c-6b24-407d-9cf9-44775409758d\">\n",
              "    <style>\n",
              "      .colab-df-generate {\n",
              "        background-color: #E8F0FE;\n",
              "        border: none;\n",
              "        border-radius: 50%;\n",
              "        cursor: pointer;\n",
              "        display: none;\n",
              "        fill: #1967D2;\n",
              "        height: 32px;\n",
              "        padding: 0 0 0 0;\n",
              "        width: 32px;\n",
              "      }\n",
              "\n",
              "      .colab-df-generate:hover {\n",
              "        background-color: #E2EBFA;\n",
              "        box-shadow: 0px 1px 2px rgba(60, 64, 67, 0.3), 0px 1px 3px 1px rgba(60, 64, 67, 0.15);\n",
              "        fill: #174EA6;\n",
              "      }\n",
              "\n",
              "      [theme=dark] .colab-df-generate {\n",
              "        background-color: #3B4455;\n",
              "        fill: #D2E3FC;\n",
              "      }\n",
              "\n",
              "      [theme=dark] .colab-df-generate:hover {\n",
              "        background-color: #434B5C;\n",
              "        box-shadow: 0px 1px 3px 1px rgba(0, 0, 0, 0.15);\n",
              "        filter: drop-shadow(0px 1px 2px rgba(0, 0, 0, 0.3));\n",
              "        fill: #FFFFFF;\n",
              "      }\n",
              "    </style>\n",
              "    <button class=\"colab-df-generate\" onclick=\"generateWithVariable('df')\"\n",
              "            title=\"Generate code using this dataframe.\"\n",
              "            style=\"display:none;\">\n",
              "\n",
              "  <svg xmlns=\"http://www.w3.org/2000/svg\" height=\"24px\"viewBox=\"0 0 24 24\"\n",
              "       width=\"24px\">\n",
              "    <path d=\"M7,19H8.4L18.45,9,17,7.55,7,17.6ZM5,21V16.75L18.45,3.32a2,2,0,0,1,2.83,0l1.4,1.43a1.91,1.91,0,0,1,.58,1.4,1.91,1.91,0,0,1-.58,1.4L9.25,21ZM18.45,9,17,7.55Zm-12,3A5.31,5.31,0,0,0,4.9,8.1,5.31,5.31,0,0,0,1,6.5,5.31,5.31,0,0,0,4.9,4.9,5.31,5.31,0,0,0,6.5,1,5.31,5.31,0,0,0,8.1,4.9,5.31,5.31,0,0,0,12,6.5,5.46,5.46,0,0,0,6.5,12Z\"/>\n",
              "  </svg>\n",
              "    </button>\n",
              "    <script>\n",
              "      (() => {\n",
              "      const buttonEl =\n",
              "        document.querySelector('#id_e6f70f5c-6b24-407d-9cf9-44775409758d button.colab-df-generate');\n",
              "      buttonEl.style.display =\n",
              "        google.colab.kernel.accessAllowed ? 'block' : 'none';\n",
              "\n",
              "      buttonEl.onclick = () => {\n",
              "        google.colab.notebook.generateWithVariable('df');\n",
              "      }\n",
              "      })();\n",
              "    </script>\n",
              "  </div>\n",
              "\n",
              "    </div>\n",
              "  </div>\n"
            ],
            "application/vnd.google.colaboratory.intrinsic+json": {
              "type": "dataframe",
              "variable_name": "df",
              "summary": "{\n  \"name\": \"df\",\n  \"rows\": 6000,\n  \"fields\": [\n    {\n      \"column\": \"f0\",\n      \"properties\": {\n        \"dtype\": \"number\",\n        \"std\": 0.9805010355590625,\n        \"min\": -2.215678089962954,\n        \"max\": 4.8112588146625335,\n        \"num_unique_values\": 6000,\n        \"samples\": [\n          1.2676908435619656,\n          1.2841475392627237,\n          0.39062392770280296\n        ],\n        \"semantic_type\": \"\",\n        \"description\": \"\"\n      }\n    },\n    {\n      \"column\": \"f1\",\n      \"properties\": {\n        \"dtype\": \"number\",\n        \"std\": 1.0785248451545504,\n        \"min\": -4.672974524406786,\n        \"max\": 3.0817234023054514,\n        \"num_unique_values\": 6000,\n        \"samples\": [\n          -0.6590967383842086,\n          -1.6751663073605492,\n          -1.125087170541642\n        ],\n        \"semantic_type\": \"\",\n        \"description\": \"\"\n      }\n    },\n    {\n      \"column\": \"t\",\n      \"properties\": {\n        \"dtype\": \"number\",\n        \"std\": 0,\n        \"min\": 0,\n        \"max\": 1,\n        \"num_unique_values\": 2,\n        \"samples\": [\n          1,\n          0\n        ],\n        \"semantic_type\": \"\",\n        \"description\": \"\"\n      }\n    }\n  ]\n}"
            }
          },
          "metadata": {},
          "execution_count": 79
        }
      ],
      "source": [
        "#creating a simple dummy unbalanced data set using  make_classification\n",
        "X, y=make_classification(n_samples=6000, n_classes=2, n_features=2, n_informative=2, n_clusters_per_class=1, n_redundant=0, weights=[0.91, 0.01], random_state=42)# Imbalanced classes\n",
        "df=pd.DataFrame(X,columns=['f0','f1'])\n",
        "df['t']=y\n",
        "print(Counter(y))\n",
        "df"
      ]
    },
    {
      "cell_type": "code",
      "execution_count": 80,
      "metadata": {
        "id": "UlceAN0aNUNb"
      },
      "outputs": [],
      "source": [
        "#split the data for train and test\n",
        "X_train, X_test, y_train, y_test= train_test_split(X, y, test_size=0.2, random_state=42)"
      ]
    },
    {
      "cell_type": "code",
      "execution_count": 25,
      "metadata": {
        "id": "gEw1yxKkTQ5c"
      },
      "outputs": [],
      "source": [
        "#custom function that trains data using logistic regression\n",
        "model=LogisticRegression()\n",
        "def model_function(X_train,y_train,X_test):\n",
        "  model.fit(X_train, y_train)\n",
        "  y_pred=model.predict(X_test)\n",
        "  return y_pred"
      ]
    },
    {
      "cell_type": "code",
      "execution_count": 81,
      "metadata": {
        "colab": {
          "base_uri": "https://localhost:8080/"
        },
        "id": "qlU0k2thT4xq",
        "outputId": "6d4dd3e1-32a3-4ed4-d2a7-0689352809ba"
      },
      "outputs": [
        {
          "output_type": "stream",
          "name": "stdout",
          "text": [
            "              precision    recall  f1-score   support\n",
            "\n",
            "           0       0.99      0.97      0.98      1158\n",
            "           1       0.45      0.67      0.54        42\n",
            "\n",
            "    accuracy                           0.96      1200\n",
            "   macro avg       0.72      0.82      0.76      1200\n",
            "weighted avg       0.97      0.96      0.96      1200\n",
            "\n",
            "[[1124   34]\n",
            " [  14   28]]\n"
          ]
        }
      ],
      "source": [
        "#let's train , test and evaluate the model\n",
        "y_pred=model_function(X_train,y_train,X_test)\n",
        "print(classification_report(y_pred, y_test))\n",
        "print(confusion_matrix(y_pred, y_test))"
      ]
    },
    {
      "cell_type": "markdown",
      "source": [
        "Like we predicted the f1 score is not good, because data is unbalanced."
      ],
      "metadata": {
        "id": "bJFlIpeLyG1z"
      }
    },
    {
      "cell_type": "code",
      "execution_count": 82,
      "metadata": {
        "colab": {
          "base_uri": "https://localhost:8080/"
        },
        "id": "z7DZpEpsUCLj",
        "outputId": "9ed3fa42-7888-4f9a-a82b-f132b7086c3a"
      },
      "outputs": [
        {
          "output_type": "stream",
          "name": "stdout",
          "text": [
            "(5674, 3)\n",
            "(326, 3)\n"
          ]
        }
      ],
      "source": [
        "#assign lables to target classes\n",
        "class_0 = df[df['t']== 0]\n",
        "class_1 = df[df['t']== 1]\n",
        "print(class_0.shape)\n",
        "print(class_1.shape)"
      ]
    },
    {
      "cell_type": "code",
      "execution_count": 83,
      "metadata": {
        "colab": {
          "base_uri": "https://localhost:8080/"
        },
        "id": "vFA5wjs1gKVI",
        "outputId": "498557e2-5b97-4401-f766-301e83ac1fe6"
      },
      "outputs": [
        {
          "output_type": "stream",
          "name": "stdout",
          "text": [
            "t\n",
            "0    326\n",
            "1    326\n",
            "Name: count, dtype: int64\n"
          ]
        }
      ],
      "source": [
        "#under_sample the class_0(it has 5674 - 0 class samples)\n",
        "class_0_under = class_0.sample(n=class_1.shape[0], random_state=42)\n",
        "df_new = pd.concat([class_0_under, class_1])\n",
        "\n",
        "print(df_new['t'].value_counts())\n"
      ]
    },
    {
      "cell_type": "markdown",
      "source": [
        "Now both classes(0&1) has same amount of samples."
      ],
      "metadata": {
        "id": "SebPypGdy05X"
      }
    },
    {
      "cell_type": "code",
      "source": [],
      "metadata": {
        "id": "4kpTcuyUKpbg"
      },
      "execution_count": 28,
      "outputs": []
    },
    {
      "cell_type": "code",
      "execution_count": 84,
      "metadata": {
        "id": "-YUfEoH6iCnn",
        "colab": {
          "base_uri": "https://localhost:8080/"
        },
        "outputId": "7d208418-aed3-410d-f4a1-216c311a96b5"
      },
      "outputs": [
        {
          "output_type": "stream",
          "name": "stdout",
          "text": [
            "              precision    recall  f1-score   support\n",
            "\n",
            "           0       0.85      0.92      0.88        61\n",
            "           1       0.92      0.86      0.89        70\n",
            "\n",
            "    accuracy                           0.89       131\n",
            "   macro avg       0.89      0.89      0.89       131\n",
            "weighted avg       0.89      0.89      0.89       131\n",
            "\n",
            "[[56  5]\n",
            " [10 60]]\n"
          ]
        }
      ],
      "source": [
        "#train with new balanced data\n",
        "X1=df_new.drop(columns=['t'])\n",
        "y1= df_new['t']\n",
        "\n",
        "X_train1, X_test1, y_train1, y_test1= train_test_split(X1, y1, test_size=0.2, random_state=42, stratify=y1)\n",
        "\n",
        "y_pred1=model_function(X_train1,y_train1,X_test1)\n",
        "print(classification_report(y_pred1, y_test1))\n",
        "print(confusion_matrix(y_pred1, y_test1))\n"
      ]
    },
    {
      "cell_type": "markdown",
      "source": [
        "Results are very good even with very less data , simple algorithms LogisticRegression performs good with less data sometimes."
      ],
      "metadata": {
        "id": "HjbEN4wRzMZg"
      }
    },
    {
      "cell_type": "code",
      "source": [
        "#Let's try oversampling the class_1 (minor class)\n",
        "class_1_over = class_1.sample(n=class_0.shape[0], replace=True, random_state= 42)\n",
        "df_new1 = pd.concat([class_0,class_1_over])\n",
        "\n",
        "print(df_new1['t'].value_counts())"
      ],
      "metadata": {
        "colab": {
          "base_uri": "https://localhost:8080/"
        },
        "id": "lNneB6JiuvEM",
        "outputId": "4479d1c2-24ab-4e26-dbc3-df14e05d4a86"
      },
      "execution_count": 85,
      "outputs": [
        {
          "output_type": "stream",
          "name": "stdout",
          "text": [
            "t\n",
            "0    5674\n",
            "1    5674\n",
            "Name: count, dtype: int64\n"
          ]
        }
      ]
    },
    {
      "cell_type": "code",
      "source": [
        "#train and evaluate the new balanced data\n",
        "X2=df_new1.drop(columns=['t'])\n",
        "y2= df_new1['t']\n",
        "\n",
        "X_train2, X_test2, y_train2, y_test2= train_test_split(X2, y2, test_size=0.2, random_state=42, stratify=y2)\n",
        "\n",
        "y_pred2=model_function(X_train2,y_train2,X_test2)\n",
        "print(classification_report(y_pred2, y_test2))\n",
        "print(confusion_matrix(y_pred2, y_test2))"
      ],
      "metadata": {
        "colab": {
          "base_uri": "https://localhost:8080/"
        },
        "id": "E8Yop4Roy4BW",
        "outputId": "bb9fc7c7-c3a5-4554-f994-52d02647495c"
      },
      "execution_count": 86,
      "outputs": [
        {
          "output_type": "stream",
          "name": "stdout",
          "text": [
            "              precision    recall  f1-score   support\n",
            "\n",
            "           0       0.86      0.92      0.89      1064\n",
            "           1       0.92      0.87      0.89      1206\n",
            "\n",
            "    accuracy                           0.89      2270\n",
            "   macro avg       0.89      0.89      0.89      2270\n",
            "weighted avg       0.89      0.89      0.89      2270\n",
            "\n",
            "[[ 974   90]\n",
            " [ 161 1045]]\n"
          ]
        }
      ]
    },
    {
      "cell_type": "markdown",
      "source": [
        "Results are  same as previous(under sampling) , here LogisticRegression again performs good."
      ],
      "metadata": {
        "id": "9R-7i1m3zxNk"
      }
    },
    {
      "cell_type": "markdown",
      "source": [
        "**SMOTE:** Generates new, synthetic data points by interpolation, making the minority class more diverse and reducing the risk of overfitting."
      ],
      "metadata": {
        "id": "aC9C8b100I_Y"
      }
    },
    {
      "cell_type": "code",
      "source": [
        "#Let's try SMOTE\n",
        "smote= SMOTE(random_state=42)\n",
        "X_train_fit, y_train_fit= smote.fit_resample(X_train, y_train)\n",
        "\n",
        "print(pd.Series(y_train_fit).value_counts())\n",
        "\n",
        "#SMOTE + LogisticRegression\n",
        "X_train3, X_test3, y_train3, y_test3= train_test_split(X_train_fit, y_train_fit, test_size=0.2, random_state=42, stratify=y_train_fit)\n",
        "\n",
        "y_pred3=model_function(X_train3,y_train3,X_test3)\n",
        "print(classification_report(y_pred3, y_test3))\n",
        "print(confusion_matrix(y_pred3, y_test3))"
      ],
      "metadata": {
        "id": "qggNOfHw090A",
        "colab": {
          "base_uri": "https://localhost:8080/"
        },
        "outputId": "1b937a89-a391-41f5-a78e-2e059d951087"
      },
      "execution_count": 87,
      "outputs": [
        {
          "output_type": "stream",
          "name": "stdout",
          "text": [
            "0    4536\n",
            "1    4536\n",
            "Name: count, dtype: int64\n",
            "              precision    recall  f1-score   support\n",
            "\n",
            "           0       0.85      0.91      0.88       854\n",
            "           1       0.91      0.86      0.89       961\n",
            "\n",
            "    accuracy                           0.88      1815\n",
            "   macro avg       0.88      0.88      0.88      1815\n",
            "weighted avg       0.88      0.88      0.88      1815\n",
            "\n",
            "[[774  80]\n",
            " [134 827]]\n"
          ]
        },
        {
          "output_type": "stream",
          "name": "stderr",
          "text": [
            "/usr/local/lib/python3.10/dist-packages/sklearn/base.py:474: FutureWarning: `BaseEstimator._validate_data` is deprecated in 1.6 and will be removed in 1.7. Use `sklearn.utils.validation.validate_data` instead. This function becomes public and is part of the scikit-learn developer API.\n",
            "  warnings.warn(\n",
            "/usr/local/lib/python3.10/dist-packages/sklearn/utils/_tags.py:354: FutureWarning: The SMOTE or classes from which it inherits use `_get_tags` and `_more_tags`. Please define the `__sklearn_tags__` method, or inherit from `sklearn.base.BaseEstimator` and/or other appropriate mixins such as `sklearn.base.TransformerMixin`, `sklearn.base.ClassifierMixin`, `sklearn.base.RegressorMixin`, and `sklearn.base.OutlierMixin`. From scikit-learn 1.7, not defining `__sklearn_tags__` will raise an error.\n",
            "  warnings.warn(\n"
          ]
        }
      ]
    },
    {
      "cell_type": "markdown",
      "source": [
        "Almost same as oversampling not much difference in performance. Let's try ensemble methods."
      ],
      "metadata": {
        "id": "_oJbCiM00k1A"
      }
    },
    {
      "cell_type": "code",
      "source": [
        "#BalancedRandomForestClassifier\n",
        "from imblearn.ensemble import BalancedRandomForestClassifier\n",
        "from sklearn.ensemble import RandomForestClassifier\n",
        "from xgboost import XGBClassifier\n",
        "\n",
        "\n",
        "# xgb = BalancedXGBClassifier(random_state=42)\n",
        "\n",
        "# xgb.fit(X_train, y_train)\n",
        "\n",
        "# y_predict = xgb.predict(X_test)\n",
        "\n",
        "# print(classification_report(y_test, y_predict))\n",
        "\n",
        "# # print(pd.Series(y_train_fit).value_counts())\n",
        "\n",
        "# print(confusion_matrix(y_predict, y_test))\n",
        "\n",
        "\n",
        "#RandomForestClassifier\n",
        "\n",
        "ratio = sum(y_train == 0) / sum(y_train == 1)\n",
        "\n",
        "xgb = XGBClassifier(scale_pos_weight=ratio, random_state=42)\n",
        "\n",
        "xgb.fit(X_train, y_train)\n",
        "\n",
        "y_predict = xgb.predict(X_test)\n",
        "\n",
        "print(classification_report(y_test, y_predict))\n",
        "\n",
        "print(confusion_matrix(y_predict, y_test))"
      ],
      "metadata": {
        "colab": {
          "base_uri": "https://localhost:8080/"
        },
        "id": "nqexNJqUNNgk",
        "outputId": "179388dc-87ee-4f4a-9f12-0f3452ab16fd"
      },
      "execution_count": 89,
      "outputs": [
        {
          "output_type": "stream",
          "name": "stdout",
          "text": [
            "              precision    recall  f1-score   support\n",
            "\n",
            "           0       0.98      0.96      0.97      1138\n",
            "           1       0.43      0.55      0.48        62\n",
            "\n",
            "    accuracy                           0.94      1200\n",
            "   macro avg       0.70      0.75      0.72      1200\n",
            "weighted avg       0.95      0.94      0.94      1200\n",
            "\n",
            "[[1093   28]\n",
            " [  45   34]]\n"
          ]
        }
      ]
    },
    {
      "cell_type": "code",
      "source": [],
      "metadata": {
        "id": "WS2VsMqA2Ju8"
      },
      "execution_count": null,
      "outputs": []
    },
    {
      "cell_type": "markdown",
      "source": [
        "Here , either BalancedRandomForestClassifier nor RandomForestClassifier performes good , it might be the data is not enough."
      ],
      "metadata": {
        "id": "cVB355l1wj5Q"
      }
    },
    {
      "cell_type": "markdown",
      "source": [
        "**Focal Loss** is a loss function designed to address the problem of class imbalance in classification tasks, particularly in object detection and image segmentation. Let's try  this.."
      ],
      "metadata": {
        "id": "hlUMw9VG2n_S"
      }
    },
    {
      "cell_type": "code",
      "source": [
        "#Custom Objective Function: will compute gradients and hessians that implement focal loss.\n",
        "def focal_loss(gamma=2., alpha=0.25):\n",
        "    def focal_loss_obj(y_true, y_pred):\n",
        "        # Sigmoid activation to get probabilities\n",
        "        y_pred = 1.0 / (1.0 + np.exp(-y_pred))\n",
        "\n",
        "        # Calculate the log of probabilities for the positive and negative class\n",
        "        p_t = y_true * y_pred + (1 - y_true) * (1 - y_pred)\n",
        "\n",
        "        # Focal loss formula\n",
        "        loss = -alpha * (1 - p_t) ** gamma * np.log(p_t)\n",
        "\n",
        "        # Gradient (derivative of loss)\n",
        "        grad = -alpha * (1 - p_t) ** gamma * (y_true - y_pred)\n",
        "\n",
        "        # Hessian (second derivative of loss)\n",
        "        hess = alpha * (1 - p_t) ** gamma * y_pred * (1 - y_pred)\n",
        "\n",
        "        return grad, hess\n",
        "\n",
        "    return focal_loss_obj\n",
        "\n",
        "# Apply Focal Loss with XGBoost classifier\n",
        "xgb = XGBClassifier(objective=focal_loss(gamma=2., alpha=0.25), random_state=42)\n",
        "\n",
        "# Fit the model\n",
        "xgb.fit(X_train, y_train) #unbalanced data\n",
        "# xgb.fit(X_train_fit, y_train_fit) # balanced data after SMOTE\n",
        "\n",
        "\n",
        "# Make predictions\n",
        "y_pred = xgb.predict(X_test)\n",
        "\n",
        "# Evaluate the model\n",
        "print(classification_report(y_test, y_pred))\n",
        "print(confusion_matrix(y_test, y_pred))\n",
        "\n",
        "\n",
        "# print(pd.Series(y_train).value_counts())\n",
        "# print(pd.Series(y_train_fit).value_counts())"
      ],
      "metadata": {
        "colab": {
          "base_uri": "https://localhost:8080/"
        },
        "id": "6cRyBoD0dZ3U",
        "outputId": "a3763063-0f0a-47ba-d764-256034fcdb6a"
      },
      "execution_count": 78,
      "outputs": [
        {
          "output_type": "stream",
          "name": "stdout",
          "text": [
            "              precision    recall  f1-score   support\n",
            "\n",
            "           0       0.96      0.99      0.98      1138\n",
            "           1       0.57      0.34      0.42        62\n",
            "\n",
            "    accuracy                           0.95      1200\n",
            "   macro avg       0.77      0.66      0.70      1200\n",
            "weighted avg       0.94      0.95      0.95      1200\n",
            "\n",
            "[[1122   16]\n",
            " [  41   21]]\n",
            "0    4536\n",
            "1     264\n",
            "Name: count, dtype: int64\n"
          ]
        }
      ]
    },
    {
      "cell_type": "markdown",
      "source": [
        "Here also the model don't get improved , same as ensemble. It seems logistic regression gives best performance for simple unbalanced dataset but in realtime the datasets are quite large and complex where logistic regression might not be a better model and we have lot of methods and algorithms we can try, test & otimize for better performance."
      ],
      "metadata": {
        "id": "pTF3MVGK3J5p"
      }
    }
  ],
  "metadata": {
    "colab": {
      "provenance": []
    },
    "kernelspec": {
      "display_name": "Python 3",
      "name": "python3"
    },
    "language_info": {
      "name": "python"
    }
  },
  "nbformat": 4,
  "nbformat_minor": 0
}