{
  "cells": [
    {
      "cell_type": "markdown",
      "source": [
        "# Iris Model Deployment\n",
        "\n",
        "This project demonstrates how to train a machine learning model, create a Flask API, containerize the application with Docker, and deploy it to a cloud platform(cloud deployment not  included).\n",
        "\n",
        "\n",
        "## **Steps Followed**\n",
        "* Use Virtual Environment(venv) to manage the projects easily.\n",
        "*Create a virtual environment and activate it , you can directly create and use with pycharm or vscode.\n",
        "### **1. Train and Save the Model**\n",
        "- Train a Random Forest model on the Iris dataset.(train_model.py)\n",
        "- Save the trained model to a file (`iris_model.pkl`).\n",
        "\n"
      ],
      "metadata": {
        "id": "CoD95tqK3JNe"
      }
    },
    {
      "cell_type": "code",
      "source": [
        "#import necessary libraries\n",
        "from sklearn.datasets import load_iris\n",
        "from sklearn.model_selection import train_test_split\n",
        "from sklearn.ensemble import RandomForestClassifier\n",
        "import joblib\n",
        "\n",
        "# Load dataset\n",
        "iris = load_iris()\n",
        "X=iris.data\n",
        "y=iris.target\n",
        "# Split data\n",
        "X_train, X_test, y_train, y_test = train_test_split(X, y, test_size=0.2, random_state=42)\n",
        "\n",
        "# Train model\n",
        "model = RandomForestClassifier()\n",
        "model.fit(X_train, y_train)\n",
        "\n",
        "# Save model to a file\n",
        "joblib.dump(model, 'iris_model.pkl')"
      ],
      "metadata": {
        "id": "Dy87WR5C3bXY"
      },
      "execution_count": null,
      "outputs": []
    },
    {
      "cell_type": "markdown",
      "source": [
        "#2. Create a Flask API(app.py)\n",
        "* Create a Flask API to serve predictions from the trained model.\n",
        "\n",
        "**Code:**"
      ],
      "metadata": {
        "id": "Hw46cCRB3piE"
      }
    },
    {
      "cell_type": "code",
      "source": [
        "from flask import Flask, request, jsonify\n",
        "import joblib\n",
        "\n",
        "# Load the trained model\n",
        "model = joblib.load('iris_model.pkl')\n",
        "\n",
        "# Create a Flask app\n",
        "app = Flask(__name__)\n",
        "\n",
        "# Define a prediction endpoint\n",
        "@app.route('/predict', methods=['POST'])\n",
        "def predict():\n",
        "    # Get input data as JSON\n",
        "    data = request.json\n",
        "    # Make predictions\n",
        "    predictions = model.predict([data])\n",
        "    # Return predictions as JSON\n",
        "    return jsonify({'predictions': predictions.tolist()})\n",
        "\n",
        "# Run the app\n",
        "if __name__ == '__main__':\n",
        "    app.run(debug=True, host=\"0.0.0.0\")"
      ],
      "metadata": {
        "id": "UeIIasdF37-Y"
      },
      "execution_count": null,
      "outputs": []
    },
    {
      "cell_type": "markdown",
      "source": [
        "#1. Testing Flask App Locally\n",
        "Run the Flask App:\n",
        "\n",
        "* Open your terminal and run:**python app.py**(use cmd if windows)\n",
        "\n",
        "#Send a POST Request:\n",
        "\n",
        "* Open a new terminal window and execute:**curl -X POST -H \"Content-Type: application/json\" -d \"[5.1, 3.5, 1.4, 0.2]\" http://127.0.0.1:5000/predict**\n",
        "\n",
        "**Expected Response:**{\n",
        "\n",
        "  \"predictions\": [0]\n",
        "\n",
        "}\n",
        "\n",
        "* If works then app is running fine using flask.\n",
        "\n",
        "\n",
        "#3. Containerize the Application with Docker\n",
        "* Create a Dockerfile to package the application and its dependencies.(Dockerfile)\n",
        "\n",
        "* Here i am using \"FROM python:3.11-slim\" you can use different versions , use the same version that you're using locally using(eg. FROM python:3.9-slim).\n",
        "\n",
        "\n",
        "\n",
        "\n",
        "\n"
      ],
      "metadata": {
        "id": "MIg_4NR139AA"
      }
    },
    {
      "cell_type": "code",
      "source": [
        "\n",
        "FROM python:3.11-slim\n",
        "\n",
        "WORKDIR /app\n",
        "\n",
        "# Copy requirements.txt to install dependencies\n",
        "COPY requirements.txt .\n",
        "\n",
        "# Install the dependencies from the requirements.txt\n",
        "RUN pip install --no-cache-dir -r requirements.txt\n",
        "\n",
        "# Copy the entire app directory (including your iris_app.py) to the container's /app folder\n",
        "COPY . .\n",
        "\n",
        "# Expose the necessary port (assuming the app runs on port 5000)\n",
        "EXPOSE 5000\n",
        "\n",
        "# Start the application (update with your actual script name if it's different)\n",
        "CMD [\"python\", \"app.py\"]\n"
      ],
      "metadata": {
        "id": "ql1bjkEb84nz"
      },
      "execution_count": 3,
      "outputs": []
    },
    {
      "cell_type": "markdown",
      "source": [
        "#2. Create requirements.txt\n",
        "* Next we need to create a requirements.txt file where we provide the necessary libraries to run our app in any environment by installing them especially, we need it for Dockerizing the Flask App.\n",
        "* Generate the file listing all dependencies:**pip freeze > requirements.txt**\n",
        "*Above command creates or modify the requirements.txt with current environment dependencies.\n",
        "\n",
        "* my requirements.txt file:\n",
        "\n",
        "blinker==1.9.0\n",
        "\n",
        "click==8.1.8\n",
        "\n",
        "colorama==0.4.6\n",
        "\n",
        "Flask==3.1.0\n",
        "\n",
        "itsdangerous==2.2.0\n",
        "\n",
        "Jinja2==3.1.5\n",
        "\n",
        "joblib==1.4.2\n",
        "\n",
        "MarkupSafe==3.0.2\n",
        "\n",
        "numpy==2.2.1\n",
        "\n",
        "scikit-learn==1.6.0\n",
        "\n",
        "scipy==1.15.0\n",
        "\n",
        "threadpoolctl==3.5.0\n",
        "\n",
        "Werkzeug==3.1.3\n"
      ],
      "metadata": {
        "id": "d65Vsi3u8iPQ"
      }
    },
    {
      "cell_type": "markdown",
      "source": [
        "#3. Dockerizing the Flask App\n",
        "* Ensure you have a Dockerfile(file name = \"Dockerfile\") in the same directory as your Flask app.\n",
        "* Build the Docker image with a tag (e.g., iris-app):**docker build -t iris-app .**\n",
        "\n",
        "* Start the container, exposing port 5000:**docker run -p 5000:5000 iris-app**\n",
        "\n",
        "#4. Test the Flask App Running in Docker\n",
        "* Install the Docker if not\n",
        "* Send a POST Request\n",
        "* Open a new terminal and test the app inside the Docker container:**curl -X POST -H \"Content-Type: application/json\" -d \"[5.1, 3.5, 1.4, 0.2]\" http://localhost:5000/predict**\n",
        "\n",
        "* Expected Response: {\n",
        "\n",
        "  \"predictions\": [0]\n",
        "\n",
        "}\n",
        "\n",
        "\n",
        "#Next Steps\n",
        "* Push to Github.\n",
        "* Deploy the app to a cloud platform (e.g., Heroku, AWS, GCP, Azure , before that you may need to create a account and add payment methods to use free credits then you can deploy the model which you already pushed to github or you can directly deploy to cloud platform(not recommended).\n",
        "\n",
        "* Monitor and maintain the deployed app."
      ],
      "metadata": {
        "id": "iFFxYXtf-i5x"
      }
    }
  ],
  "metadata": {
    "colab": {
      "provenance": []
    },
    "kernelspec": {
      "display_name": "Python 3",
      "name": "python3"
    },
    "language_info": {
      "name": "python"
    }
  },
  "nbformat": 4,
  "nbformat_minor": 0
}