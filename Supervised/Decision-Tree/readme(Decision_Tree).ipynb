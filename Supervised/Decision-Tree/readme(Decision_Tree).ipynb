{
  "nbformat": 4,
  "nbformat_minor": 0,
  "metadata": {
    "colab": {
      "provenance": []
    },
    "kernelspec": {
      "name": "python3",
      "display_name": "Python 3"
    },
    "language_info": {
      "name": "python"
    }
  },
  "cells": [
    {
      "cell_type": "markdown",
      "source": [
        "**Before you dive into the implementations, I highly recommend first learning the heart of each algorithm—its core idea and how it works. You can explore this through YouTube tutorials, books, or online courses. This repository is meant to complement that knowledge by showing how to translate concepts into working code.**"
      ],
      "metadata": {
        "id": "cMmQnFzwDbTX"
      }
    },
    {
      "cell_type": "markdown",
      "source": [
        "# Decision Tree: An Overview\n",
        "\n",
        "A Decision Tree is a supervised machine learning algorithm used for both classification and regression tasks. It works by breaking down a dataset into smaller subsets while simultaneously creating a tree-like structure with decision nodes and leaf nodes. The main goal is to make decisions based on the purity of the splits.\n",
        "\n",
        "## How Does a Decision Tree Work?\n",
        "\n",
        "### Constructing Splits:\n",
        "- A decision tree starts with a root node (which contains all the data).\n",
        "- It splits the data into subsets based on feature values. The features represent the root nodes, and the resulting splits form child nodes.\n",
        "- The targets are represented by the leaf nodes, which are the final predictions.\n",
        "\n",
        "### Purity of Splits:\n",
        "To create the best splits, the algorithm aims to achieve the most pure split, where the leaf nodes contain data that mostly belong to a single class (for classification) or have minimal variance (for regression).\n",
        "\n",
        "### Measuring Purity:\n",
        "Purity is determined using metrics like:\n",
        "- **Gini Index**: Measures the impurity of a split.  \n",
        "  $$ \\text{Gini} = 1 - \\sum_{i=1}^{n} P_i^2 $$  \n",
        "  Where \\( P_i \\) is the proportion of samples belonging to class \\( i \\) in the node.\n",
        "  \n",
        "- **Entropy**: Measures the randomness (disorder) in the data.  \n",
        "  $$ \\text{Entropy} = - \\sum_{i=1}^{n} P_i \\log_2(P_i) $$  \n",
        "\n",
        "- **Information Gain**: Quantifies the reduction in entropy after a split.  \n",
        "  $$ IG = \\text{Entropy}_{\\text{parent}} - \\sum_{i=1}^{k} \\frac{N_i}{N} \\times \\text{Entropy}_{\\text{child}_i} $$\n",
        "\n",
        "The split that results in the lowest Gini Index or Entropy and the highest Information Gain is considered the best split.\n",
        "\n",
        "### Decision Process:\n",
        "- The decision tree evaluates all possible splits for a feature and selects the split that optimizes the chosen metric (e.g., Gini Index or Information Gain).\n",
        "- For categorical features, it tests all unique values of the feature.\n",
        "- For numeric features, it considers every possible split point and calculates the resulting purity for each.\n",
        "\n",
        "### Stopping Criteria:\n",
        "The tree stops splitting when:\n",
        "- All leaf nodes are pure (contain only one class).\n",
        "- A maximum tree depth is reached.\n",
        "- Further splitting does not significantly improve purity.\n",
        "\n",
        "### Decision Making:\n",
        "- During prediction, the input data is passed through the tree, starting at the root node.\n",
        "- Based on the feature splits, the data is traversed to a leaf node, which holds the final prediction.\n",
        "\n",
        "## Key Characteristics:\n",
        "\n",
        "### Works with Both Categorical and Numerical Data:\n",
        "- For categorical features: Each unique value is evaluated as a potential split.\n",
        "- For numerical features: Potential split points are identified, and purity metrics are calculated for each split.\n",
        "\n",
        "### Core Concept:\n",
        "- The tree aims to make the best decision by choosing splits that maximize information gain (or minimize impurity).\n",
        "- Features and targets that are more biased or well-separated result in easier decisions.\n",
        "\n",
        "## Advantages:\n",
        "- **Easy to Interpret**: The tree structure is intuitive and can be visualized, making it easy to explain the decision-making process.\n",
        "- **Handles Nonlinear Relationships**: Decision trees are capable of capturing complex patterns in the data without requiring feature transformations.\n",
        "- **Works with Missing Values**: Can handle datasets with missing values by assigning samples to splits based on probabilities.\n",
        "- **Feature Selection**: Automatically selects the most important features based on their ability to split the data.\n",
        "\n",
        "## Disadvantages:\n",
        "- **Overfitting**: Decision trees are prone to overfitting, especially when the tree becomes too deep.\n",
        "- **Instability**: Small changes in the dataset can result in a completely different tree structure.\n",
        "- **Bias Towards Dominant Features**: Features with many unique values (like numerical data) may dominate the splitting process, which can lead to biased results.\n",
        "\n",
        "## Enhancements:\n",
        "- **Pruning**: Reduces the complexity of the tree by removing branches that have little significance.\n",
        "- **Ensemble Methods**: Techniques like Random Forest and Gradient Boosted Trees combine multiple decision trees to improve performance and reduce overfitting.\n",
        "\n",
        "## Summary\n",
        "A decision tree works by repeatedly splitting the data based on feature values, using metrics like Gini Index, Entropy, and Information Gain to create pure splits. The goal is to make the best decisions by minimizing impurity in the splits. It can handle both categorical and numerical data effectively, but care must be taken to avoid overfitting and bias toward certain features.\n",
        "\n",
        "This step-by-step process highlights how decision trees approach classification and regression problems, emphasizing the need for high-quality splits to achieve good performance.\n"
      ],
      "metadata": {
        "id": "MP7HsXKjDduD"
      }
    },
    {
      "cell_type": "code",
      "source": [
        "#import necessary libraries\n",
        "import pandas as pd\n",
        "import numpy as np\n",
        "from sklearn.model_selection import train_test_split\n",
        "from sklearn.tree import DecisionTreeClassifier\n",
        "import matplotlib.pyplot as plt\n",
        "from sklearn.metrics import accuracy_score, confusion_matrix ,classification_report\n",
        "from sklearn.model_selection import cross_val_score\n",
        "from sklearn import tree\n",
        "from sklearn.datasets import load_iris"
      ],
      "metadata": {
        "id": "FGSxnR_RDiL-"
      },
      "execution_count": 29,
      "outputs": []
    },
    {
      "cell_type": "code",
      "source": [
        "#load the data set\n",
        "iris=load_iris()\n",
        "X=iris.data\n",
        "y=iris.target\n",
        "\n",
        "df=pd.DataFrame(X, columns=iris.feature_names)\n",
        "df['species'] = pd.Categorical.from_codes(y, iris.target_names)\n",
        "df.head()\n"
      ],
      "metadata": {
        "colab": {
          "base_uri": "https://localhost:8080/",
          "height": 206
        },
        "id": "9MQiDW-zJK1l",
        "outputId": "97e361d6-5f62-4867-934e-10d79476976d"
      },
      "execution_count": 6,
      "outputs": [
        {
          "output_type": "execute_result",
          "data": {
            "text/plain": [
              "   sepal length (cm)  sepal width (cm)  petal length (cm)  petal width (cm)  \\\n",
              "0                5.1               3.5                1.4               0.2   \n",
              "1                4.9               3.0                1.4               0.2   \n",
              "2                4.7               3.2                1.3               0.2   \n",
              "3                4.6               3.1                1.5               0.2   \n",
              "4                5.0               3.6                1.4               0.2   \n",
              "\n",
              "  species  \n",
              "0  setosa  \n",
              "1  setosa  \n",
              "2  setosa  \n",
              "3  setosa  \n",
              "4  setosa  "
            ],
            "text/html": [
              "\n",
              "  <div id=\"df-43d8d312-02d5-4837-a178-488d621c77ed\" class=\"colab-df-container\">\n",
              "    <div>\n",
              "<style scoped>\n",
              "    .dataframe tbody tr th:only-of-type {\n",
              "        vertical-align: middle;\n",
              "    }\n",
              "\n",
              "    .dataframe tbody tr th {\n",
              "        vertical-align: top;\n",
              "    }\n",
              "\n",
              "    .dataframe thead th {\n",
              "        text-align: right;\n",
              "    }\n",
              "</style>\n",
              "<table border=\"1\" class=\"dataframe\">\n",
              "  <thead>\n",
              "    <tr style=\"text-align: right;\">\n",
              "      <th></th>\n",
              "      <th>sepal length (cm)</th>\n",
              "      <th>sepal width (cm)</th>\n",
              "      <th>petal length (cm)</th>\n",
              "      <th>petal width (cm)</th>\n",
              "      <th>species</th>\n",
              "    </tr>\n",
              "  </thead>\n",
              "  <tbody>\n",
              "    <tr>\n",
              "      <th>0</th>\n",
              "      <td>5.1</td>\n",
              "      <td>3.5</td>\n",
              "      <td>1.4</td>\n",
              "      <td>0.2</td>\n",
              "      <td>setosa</td>\n",
              "    </tr>\n",
              "    <tr>\n",
              "      <th>1</th>\n",
              "      <td>4.9</td>\n",
              "      <td>3.0</td>\n",
              "      <td>1.4</td>\n",
              "      <td>0.2</td>\n",
              "      <td>setosa</td>\n",
              "    </tr>\n",
              "    <tr>\n",
              "      <th>2</th>\n",
              "      <td>4.7</td>\n",
              "      <td>3.2</td>\n",
              "      <td>1.3</td>\n",
              "      <td>0.2</td>\n",
              "      <td>setosa</td>\n",
              "    </tr>\n",
              "    <tr>\n",
              "      <th>3</th>\n",
              "      <td>4.6</td>\n",
              "      <td>3.1</td>\n",
              "      <td>1.5</td>\n",
              "      <td>0.2</td>\n",
              "      <td>setosa</td>\n",
              "    </tr>\n",
              "    <tr>\n",
              "      <th>4</th>\n",
              "      <td>5.0</td>\n",
              "      <td>3.6</td>\n",
              "      <td>1.4</td>\n",
              "      <td>0.2</td>\n",
              "      <td>setosa</td>\n",
              "    </tr>\n",
              "  </tbody>\n",
              "</table>\n",
              "</div>\n",
              "    <div class=\"colab-df-buttons\">\n",
              "\n",
              "  <div class=\"colab-df-container\">\n",
              "    <button class=\"colab-df-convert\" onclick=\"convertToInteractive('df-43d8d312-02d5-4837-a178-488d621c77ed')\"\n",
              "            title=\"Convert this dataframe to an interactive table.\"\n",
              "            style=\"display:none;\">\n",
              "\n",
              "  <svg xmlns=\"http://www.w3.org/2000/svg\" height=\"24px\" viewBox=\"0 -960 960 960\">\n",
              "    <path d=\"M120-120v-720h720v720H120Zm60-500h600v-160H180v160Zm220 220h160v-160H400v160Zm0 220h160v-160H400v160ZM180-400h160v-160H180v160Zm440 0h160v-160H620v160ZM180-180h160v-160H180v160Zm440 0h160v-160H620v160Z\"/>\n",
              "  </svg>\n",
              "    </button>\n",
              "\n",
              "  <style>\n",
              "    .colab-df-container {\n",
              "      display:flex;\n",
              "      gap: 12px;\n",
              "    }\n",
              "\n",
              "    .colab-df-convert {\n",
              "      background-color: #E8F0FE;\n",
              "      border: none;\n",
              "      border-radius: 50%;\n",
              "      cursor: pointer;\n",
              "      display: none;\n",
              "      fill: #1967D2;\n",
              "      height: 32px;\n",
              "      padding: 0 0 0 0;\n",
              "      width: 32px;\n",
              "    }\n",
              "\n",
              "    .colab-df-convert:hover {\n",
              "      background-color: #E2EBFA;\n",
              "      box-shadow: 0px 1px 2px rgba(60, 64, 67, 0.3), 0px 1px 3px 1px rgba(60, 64, 67, 0.15);\n",
              "      fill: #174EA6;\n",
              "    }\n",
              "\n",
              "    .colab-df-buttons div {\n",
              "      margin-bottom: 4px;\n",
              "    }\n",
              "\n",
              "    [theme=dark] .colab-df-convert {\n",
              "      background-color: #3B4455;\n",
              "      fill: #D2E3FC;\n",
              "    }\n",
              "\n",
              "    [theme=dark] .colab-df-convert:hover {\n",
              "      background-color: #434B5C;\n",
              "      box-shadow: 0px 1px 3px 1px rgba(0, 0, 0, 0.15);\n",
              "      filter: drop-shadow(0px 1px 2px rgba(0, 0, 0, 0.3));\n",
              "      fill: #FFFFFF;\n",
              "    }\n",
              "  </style>\n",
              "\n",
              "    <script>\n",
              "      const buttonEl =\n",
              "        document.querySelector('#df-43d8d312-02d5-4837-a178-488d621c77ed button.colab-df-convert');\n",
              "      buttonEl.style.display =\n",
              "        google.colab.kernel.accessAllowed ? 'block' : 'none';\n",
              "\n",
              "      async function convertToInteractive(key) {\n",
              "        const element = document.querySelector('#df-43d8d312-02d5-4837-a178-488d621c77ed');\n",
              "        const dataTable =\n",
              "          await google.colab.kernel.invokeFunction('convertToInteractive',\n",
              "                                                    [key], {});\n",
              "        if (!dataTable) return;\n",
              "\n",
              "        const docLinkHtml = 'Like what you see? Visit the ' +\n",
              "          '<a target=\"_blank\" href=https://colab.research.google.com/notebooks/data_table.ipynb>data table notebook</a>'\n",
              "          + ' to learn more about interactive tables.';\n",
              "        element.innerHTML = '';\n",
              "        dataTable['output_type'] = 'display_data';\n",
              "        await google.colab.output.renderOutput(dataTable, element);\n",
              "        const docLink = document.createElement('div');\n",
              "        docLink.innerHTML = docLinkHtml;\n",
              "        element.appendChild(docLink);\n",
              "      }\n",
              "    </script>\n",
              "  </div>\n",
              "\n",
              "\n",
              "<div id=\"df-ea49d917-75b9-4b33-826f-128e8e46ae8b\">\n",
              "  <button class=\"colab-df-quickchart\" onclick=\"quickchart('df-ea49d917-75b9-4b33-826f-128e8e46ae8b')\"\n",
              "            title=\"Suggest charts\"\n",
              "            style=\"display:none;\">\n",
              "\n",
              "<svg xmlns=\"http://www.w3.org/2000/svg\" height=\"24px\"viewBox=\"0 0 24 24\"\n",
              "     width=\"24px\">\n",
              "    <g>\n",
              "        <path d=\"M19 3H5c-1.1 0-2 .9-2 2v14c0 1.1.9 2 2 2h14c1.1 0 2-.9 2-2V5c0-1.1-.9-2-2-2zM9 17H7v-7h2v7zm4 0h-2V7h2v10zm4 0h-2v-4h2v4z\"/>\n",
              "    </g>\n",
              "</svg>\n",
              "  </button>\n",
              "\n",
              "<style>\n",
              "  .colab-df-quickchart {\n",
              "      --bg-color: #E8F0FE;\n",
              "      --fill-color: #1967D2;\n",
              "      --hover-bg-color: #E2EBFA;\n",
              "      --hover-fill-color: #174EA6;\n",
              "      --disabled-fill-color: #AAA;\n",
              "      --disabled-bg-color: #DDD;\n",
              "  }\n",
              "\n",
              "  [theme=dark] .colab-df-quickchart {\n",
              "      --bg-color: #3B4455;\n",
              "      --fill-color: #D2E3FC;\n",
              "      --hover-bg-color: #434B5C;\n",
              "      --hover-fill-color: #FFFFFF;\n",
              "      --disabled-bg-color: #3B4455;\n",
              "      --disabled-fill-color: #666;\n",
              "  }\n",
              "\n",
              "  .colab-df-quickchart {\n",
              "    background-color: var(--bg-color);\n",
              "    border: none;\n",
              "    border-radius: 50%;\n",
              "    cursor: pointer;\n",
              "    display: none;\n",
              "    fill: var(--fill-color);\n",
              "    height: 32px;\n",
              "    padding: 0;\n",
              "    width: 32px;\n",
              "  }\n",
              "\n",
              "  .colab-df-quickchart:hover {\n",
              "    background-color: var(--hover-bg-color);\n",
              "    box-shadow: 0 1px 2px rgba(60, 64, 67, 0.3), 0 1px 3px 1px rgba(60, 64, 67, 0.15);\n",
              "    fill: var(--button-hover-fill-color);\n",
              "  }\n",
              "\n",
              "  .colab-df-quickchart-complete:disabled,\n",
              "  .colab-df-quickchart-complete:disabled:hover {\n",
              "    background-color: var(--disabled-bg-color);\n",
              "    fill: var(--disabled-fill-color);\n",
              "    box-shadow: none;\n",
              "  }\n",
              "\n",
              "  .colab-df-spinner {\n",
              "    border: 2px solid var(--fill-color);\n",
              "    border-color: transparent;\n",
              "    border-bottom-color: var(--fill-color);\n",
              "    animation:\n",
              "      spin 1s steps(1) infinite;\n",
              "  }\n",
              "\n",
              "  @keyframes spin {\n",
              "    0% {\n",
              "      border-color: transparent;\n",
              "      border-bottom-color: var(--fill-color);\n",
              "      border-left-color: var(--fill-color);\n",
              "    }\n",
              "    20% {\n",
              "      border-color: transparent;\n",
              "      border-left-color: var(--fill-color);\n",
              "      border-top-color: var(--fill-color);\n",
              "    }\n",
              "    30% {\n",
              "      border-color: transparent;\n",
              "      border-left-color: var(--fill-color);\n",
              "      border-top-color: var(--fill-color);\n",
              "      border-right-color: var(--fill-color);\n",
              "    }\n",
              "    40% {\n",
              "      border-color: transparent;\n",
              "      border-right-color: var(--fill-color);\n",
              "      border-top-color: var(--fill-color);\n",
              "    }\n",
              "    60% {\n",
              "      border-color: transparent;\n",
              "      border-right-color: var(--fill-color);\n",
              "    }\n",
              "    80% {\n",
              "      border-color: transparent;\n",
              "      border-right-color: var(--fill-color);\n",
              "      border-bottom-color: var(--fill-color);\n",
              "    }\n",
              "    90% {\n",
              "      border-color: transparent;\n",
              "      border-bottom-color: var(--fill-color);\n",
              "    }\n",
              "  }\n",
              "</style>\n",
              "\n",
              "  <script>\n",
              "    async function quickchart(key) {\n",
              "      const quickchartButtonEl =\n",
              "        document.querySelector('#' + key + ' button');\n",
              "      quickchartButtonEl.disabled = true;  // To prevent multiple clicks.\n",
              "      quickchartButtonEl.classList.add('colab-df-spinner');\n",
              "      try {\n",
              "        const charts = await google.colab.kernel.invokeFunction(\n",
              "            'suggestCharts', [key], {});\n",
              "      } catch (error) {\n",
              "        console.error('Error during call to suggestCharts:', error);\n",
              "      }\n",
              "      quickchartButtonEl.classList.remove('colab-df-spinner');\n",
              "      quickchartButtonEl.classList.add('colab-df-quickchart-complete');\n",
              "    }\n",
              "    (() => {\n",
              "      let quickchartButtonEl =\n",
              "        document.querySelector('#df-ea49d917-75b9-4b33-826f-128e8e46ae8b button');\n",
              "      quickchartButtonEl.style.display =\n",
              "        google.colab.kernel.accessAllowed ? 'block' : 'none';\n",
              "    })();\n",
              "  </script>\n",
              "</div>\n",
              "\n",
              "    </div>\n",
              "  </div>\n"
            ],
            "application/vnd.google.colaboratory.intrinsic+json": {
              "type": "dataframe",
              "variable_name": "df",
              "summary": "{\n  \"name\": \"df\",\n  \"rows\": 150,\n  \"fields\": [\n    {\n      \"column\": \"sepal length (cm)\",\n      \"properties\": {\n        \"dtype\": \"number\",\n        \"std\": 0.8280661279778629,\n        \"min\": 4.3,\n        \"max\": 7.9,\n        \"num_unique_values\": 35,\n        \"samples\": [\n          6.2,\n          4.5,\n          5.6\n        ],\n        \"semantic_type\": \"\",\n        \"description\": \"\"\n      }\n    },\n    {\n      \"column\": \"sepal width (cm)\",\n      \"properties\": {\n        \"dtype\": \"number\",\n        \"std\": 0.435866284936698,\n        \"min\": 2.0,\n        \"max\": 4.4,\n        \"num_unique_values\": 23,\n        \"samples\": [\n          2.3,\n          4.0,\n          3.5\n        ],\n        \"semantic_type\": \"\",\n        \"description\": \"\"\n      }\n    },\n    {\n      \"column\": \"petal length (cm)\",\n      \"properties\": {\n        \"dtype\": \"number\",\n        \"std\": 1.7652982332594667,\n        \"min\": 1.0,\n        \"max\": 6.9,\n        \"num_unique_values\": 43,\n        \"samples\": [\n          6.7,\n          3.8,\n          3.7\n        ],\n        \"semantic_type\": \"\",\n        \"description\": \"\"\n      }\n    },\n    {\n      \"column\": \"petal width (cm)\",\n      \"properties\": {\n        \"dtype\": \"number\",\n        \"std\": 0.7622376689603465,\n        \"min\": 0.1,\n        \"max\": 2.5,\n        \"num_unique_values\": 22,\n        \"samples\": [\n          0.2,\n          1.2,\n          1.3\n        ],\n        \"semantic_type\": \"\",\n        \"description\": \"\"\n      }\n    },\n    {\n      \"column\": \"species\",\n      \"properties\": {\n        \"dtype\": \"category\",\n        \"num_unique_values\": 3,\n        \"samples\": [\n          \"setosa\",\n          \"versicolor\",\n          \"virginica\"\n        ],\n        \"semantic_type\": \"\",\n        \"description\": \"\"\n      }\n    }\n  ]\n}"
            }
          },
          "metadata": {},
          "execution_count": 6
        }
      ]
    },
    {
      "cell_type": "code",
      "source": [
        "#split the data for train and test\n",
        "X_train, X_test, y_train, y_test =train_test_split(X,y, test_size=0.2, random_state=42)"
      ],
      "metadata": {
        "id": "SLE2VcuCMLBI"
      },
      "execution_count": 7,
      "outputs": []
    },
    {
      "cell_type": "code",
      "source": [
        "#train the data with decision tree Clssifier\n",
        "model=DecisionTreeClassifier()\n",
        "model.fit(X_train,y_train)\n",
        "\n",
        "y_pred=model.predict(X_test)\n"
      ],
      "metadata": {
        "id": "e0C6VV8SNjjV"
      },
      "execution_count": 9,
      "outputs": []
    },
    {
      "cell_type": "code",
      "source": [
        "#evaluate the model\n",
        "model_acc= accuracy_score(y_pred, y_test)\n",
        "print(model_acc*100)\n",
        "class_re= classification_report(y_pred,y_test)\n",
        "print(class_re)"
      ],
      "metadata": {
        "colab": {
          "base_uri": "https://localhost:8080/"
        },
        "id": "VkqQnz-yTQmM",
        "outputId": "fd4f0a9a-9f9b-4c63-d652-359847f0f0c4"
      },
      "execution_count": 34,
      "outputs": [
        {
          "output_type": "stream",
          "name": "stdout",
          "text": [
            "100.0\n",
            "              precision    recall  f1-score   support\n",
            "\n",
            "           0       1.00      1.00      1.00        10\n",
            "           1       1.00      1.00      1.00         9\n",
            "           2       1.00      1.00      1.00        11\n",
            "\n",
            "    accuracy                           1.00        30\n",
            "   macro avg       1.00      1.00      1.00        30\n",
            "weighted avg       1.00      1.00      1.00        30\n",
            "\n"
          ]
        }
      ]
    },
    {
      "cell_type": "code",
      "source": [
        "# Confusion matrix\n",
        "cm = confusion_matrix(y_test, y_pred)\n",
        "plt.figure(figsize=(6, 5))\n",
        "plt.imshow(cm, interpolation='nearest', cmap=plt.cm.Blues)\n",
        "plt.title('Confusion Matrix')\n",
        "plt.colorbar()\n",
        "classes = iris.target_names\n",
        "tick_marks = np.arange(len(classes))\n",
        "plt.xticks(tick_marks, classes, rotation=45)\n",
        "plt.yticks(tick_marks, classes)\n",
        "plt.ylabel('True label')\n",
        "plt.xlabel('Predicted label')\n",
        "plt.tight_layout()\n",
        "plt.show()\n"
      ],
      "metadata": {
        "colab": {
          "base_uri": "https://localhost:8080/",
          "height": 519
        },
        "id": "xcd4yLB_UExL",
        "outputId": "3aec9813-b122-4daf-d1db-c9acea626bc1"
      },
      "execution_count": 12,
      "outputs": [
        {
          "output_type": "display_data",
          "data": {
            "text/plain": [
              "<Figure size 600x500 with 2 Axes>"
            ],
            "image/png": "[encoded data removed]"
          },
          "metadata": {}
        }
      ]
    },
    {
      "cell_type": "code",
      "source": [
        "# Try a decision tree with max_depth and min_samples_split\n",
        "model_tuned = DecisionTreeClassifier(max_depth=3, min_samples_split=4, random_state=42)\n",
        "model_tuned.fit(X_train, y_train)\n",
        "\n",
        "# Evaluate the tuned model\n",
        "y_pred_tuned = model_tuned.predict(X_test)\n",
        "accuracy_tuned = accuracy_score(y_test, y_pred_tuned)\n",
        "print(f\"Tuned Accuracy: {accuracy_tuned * 100:.2f}%\")\n",
        "class_re= classification_report(y_pred,y_test)\n",
        "print(class_re)\n"
      ],
      "metadata": {
        "colab": {
          "base_uri": "https://localhost:8080/"
        },
        "id": "azwyS3wLUZ6t",
        "outputId": "3b29d006-a403-47de-8d4a-46214a5586d6"
      },
      "execution_count": 26,
      "outputs": [
        {
          "output_type": "stream",
          "name": "stdout",
          "text": [
            "Tuned Accuracy: 100.00%\n",
            "              precision    recall  f1-score   support\n",
            "\n",
            "           0       1.00      1.00      1.00        10\n",
            "           1       1.00      1.00      1.00         9\n",
            "           2       1.00      1.00      1.00        11\n",
            "\n",
            "    accuracy                           1.00        30\n",
            "   macro avg       1.00      1.00      1.00        30\n",
            "weighted avg       1.00      1.00      1.00        30\n",
            "\n"
          ]
        }
      ]
    },
    {
      "cell_type": "code",
      "source": [
        "#custom checking\n",
        "custom=[[1,2,34,4]]\n",
        "prediction =model_tuned.predict(custom)\n",
        "print(iris.target_names[prediction])"
      ],
      "metadata": {
        "colab": {
          "base_uri": "https://localhost:8080/"
        },
        "id": "CeHoNKNtUmeS",
        "outputId": "be7b9647-7796-43fa-ed01-a0184deb13f8"
      },
      "execution_count": 32,
      "outputs": [
        {
          "output_type": "stream",
          "name": "stdout",
          "text": [
            "['virginica']\n"
          ]
        }
      ]
    },
    {
      "cell_type": "code",
      "source": [
        "#lets check other metrics to make sure model is not fitted\n",
        "scores = cross_val_score(model_tuned, X, y, cv=5, scoring='accuracy')\n",
        "\n",
        "# Print out the results\n",
        "print(f\"Cross-validation scores: {scores}\")\n",
        "print(f\"Mean cross-validation score: {np.mean(scores)}\")\n",
        "print(f\"Standard deviation of cross-validation score: {np.std(scores)}\")"
      ],
      "metadata": {
        "colab": {
          "base_uri": "https://localhost:8080/"
        },
        "id": "RDKpinveZu0q",
        "outputId": "85d71b85-827c-4ec2-c296-917237e21424"
      },
      "execution_count": 33,
      "outputs": [
        {
          "output_type": "stream",
          "name": "stdout",
          "text": [
            "Cross-validation scores: [0.96666667 0.96666667 0.93333333 1.         1.        ]\n",
            "Mean cross-validation score: 0.9733333333333334\n",
            "Standard deviation of cross-validation score: 0.02494438257849294\n"
          ]
        }
      ]
    },
    {
      "cell_type": "markdown",
      "source": [
        "**Conclusion:**\n",
        "  From the model’s evaluation, we can make the following conclusions:\n",
        "\n",
        "  Accuracy: The model achieves an accuracy of about 100%, indicating very good performance for the Iris dataset, because of simpler dataset.\n",
        "\n",
        "  Confusion Matrix: The confusion matrix helps us see how the model is performing across different classes. We can see if the model has issues with class imbalances or misclassifications."
      ],
      "metadata": {
        "id": "fSmOOeFIXauP"
      }
    },
    {
      "cell_type": "markdown",
      "source": [
        "#Decision Tree Regressor: An Overview\n",
        "\n",
        "A Decision Tree Regressor is a type of decision tree model used for predicting continuous numeric values, making it suitable for regression tasks. Like the Decision Tree for classification, it builds a tree structure by recursively splitting the data based on feature values, but instead of class labels, it predicts continuous outputs.\n",
        "How Does a Decision Tree Regressor Work?\n",
        "\n",
        "  **Root Node:** The process begins with the entire dataset in the root node.\n",
        "\n",
        "  **Splitting the Data:** The algorithm recursively splits the data into subsets based on feature values. The objective is to minimize the variance in each of the resulting subsets.\n",
        "\n",
        "  **Leaf Nodes:** Each leaf node represents a predicted value, typically the mean or median value of the target variable for that subset.\n",
        "\n",
        "  **Decision Process:** Similar to classification trees, the algorithm considers every possible split of the data and chooses the one that minimizes a loss function (like variance reduction) to produce the most homogenous subsets possible.\n",
        "\n",
        "**Key Metrics for Decision Tree Regressor**\n",
        "\n",
        "  **Mean Squared Error (MSE):** Measures the average squared difference between the predicted values and the actual target values. Lower MSE indicates better performance.\n",
        "\n",
        "  **R-squared (R²):** Represents the proportion of the variance in the target variable that is predictable from the independent variables. An R² of 1 means the model perfectly explains the variance, while 0 means it does not explain any variance.\n",
        "\n",
        "**Advantages of Decision Tree Regressor**\n",
        "\n",
        "  **Easy to Interpret:** Like its classification counterpart, decision trees are transparent and easy to visualize, making them intuitive to understand.\n",
        "\n",
        "  **Non-linear Relationships:** Can model non-linear relationships between features and the target variable without requiring complex transformations of the data.\n",
        "\n",
        "  **No Need for Feature Scaling:** Unlike other models like linear regression, decision trees do not require features to be normalized or standardized.\n",
        "\n",
        "  **Handles Missing Data:** The algorithm can handle missing values, either by using surrogate splits or by assigning missing values to the most frequent category.\n",
        "\n",
        "**Disadvantages of Decision Tree Regressor**\n",
        "\n",
        "  **Overfitting:** Decision trees are prone to overfitting, especially when the tree becomes too deep. This can result in high variance and poor generalization to unseen data.\n",
        "\n",
        "  **Instability:** Small changes in the dataset can lead to drastically different tree structures, which makes the model sensitive to noise.\n",
        "\n",
        "  **Bias towards Features with More Categories:** Features with more possible values (e.g., numerical features) may dominate the decision-making process.\n",
        "\n",
        "Enhancements to Improve Decision Tree Regressor\n",
        "\n",
        "  **Pruning:** This involves cutting back the tree by removing branches that add little predictive value, which helps prevent overfitting.\n",
        "\n",
        "  **Ensemble Methods:**\n",
        "\n",
        "  **Random Forest:** An ensemble of multiple decision trees, each trained on a different subset of the data, improves performance by reducing variance.\n",
        "\n",
        "  **Gradient Boosting:** Builds trees sequentially, with each tree correcting the errors of the previous one, improving accuracy.\n",
        "\n",
        "**Example Use Case: Predicting House Prices**\n",
        "\n",
        "Consider a dataset with features like square footage, number of bedrooms, and location, and the target variable is price. A decision tree regressor would learn to split the data based on features such that the target value (price) in each leaf node is as close as possible to the actual price of the houses in that subset."
      ],
      "metadata": {
        "id": "SHu2w3hRcC1L"
      }
    }
  ]
}