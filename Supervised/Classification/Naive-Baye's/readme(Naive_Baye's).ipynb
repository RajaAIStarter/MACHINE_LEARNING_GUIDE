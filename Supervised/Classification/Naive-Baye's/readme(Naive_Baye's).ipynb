{
  "nbformat": 4,
  "nbformat_minor": 0,
  "metadata": {
    "colab": {
      "provenance": []
    },
    "kernelspec": {
      "name": "python3",
      "display_name": "Python 3"
    },
    "language_info": {
      "name": "python"
    }
  },
  "cells": [
    {
      "cell_type": "markdown",
      "source": [
        "# README: Bayes and Naive Bayes\n",
        "\n",
        "## 1. What is Bayes' Theorem?\n",
        "\n",
        "Bayes' Theorem is a mathematical formula used to calculate the conditional probability of an event based on prior knowledge of conditions related to the event. It helps to update the probability of a hypothesis as more evidence becomes available.\n",
        "\n",
        "The formula for Bayes' Theorem is:\n",
        "\n",
        "$$\n",
        "P(C|X) = \\frac{P(X|C) \\cdot P(C)}{P(X)}\n",
        "$$\n",
        "\n",
        "Where:\n",
        "\n",
        "- **\\(P(C|X)\\):** Posterior probability (probability of class \\(C\\) given evidence \\(X\\)).\n",
        "- **\\(P(X|C)\\):** Likelihood (probability of observing \\(X\\) given class \\(C\\)).\n",
        "- **\\(P(C)\\):** Prior probability of class \\(C\\) (how frequent class \\(C\\) is in general).\n",
        "- **\\(P(X)\\):** Evidence (probability of the observed data \\(X\\)).\n",
        "\n",
        "\n",
        "\n",
        "## 2. What is Naive Bayes?\n",
        "\n",
        "Naive Bayes is a classification algorithm based on Bayes' Theorem. It is called \"naive\" because it assumes that all features are independent of each other given the class label. Despite this simplification, Naive Bayes performs well in many practical applications.\n",
        "\n",
        "### Key Features of Naive Bayes:\n",
        "\n",
        "- Simple and efficient for both small and large datasets.\n",
        "- Works well with categorical and text data.\n",
        "- Commonly used in spam detection, sentiment analysis, and document classification.\n",
        "\n",
        "---\n",
        "\n",
        "## 3. How Does Naive Bayes Work?\n",
        "\n",
        "### Step 1: Training Phase\n",
        "\n",
        "1. **Calculate Prior Probabilities \\(P(C)\\):**\n",
        "   - Compute the overall probability of each class based on the training data (e.g., how many emails are spam vs. not spam).\n",
        "\n",
        "2. **Calculate Likelihoods \\(P(X|C)\\):**\n",
        "   - For each feature (e.g., words in an email), compute how often it appears for each class. This is the likelihood \\(P(x_i|C)\\), where \\(x_i\\) is a feature.\n",
        "\n",
        "3. **Store Probabilities:**\n",
        "   - Store the prior and likelihood probabilities for use during prediction.\n",
        "\n",
        "\n",
        "\n",
        "### Step 2: Prediction Phase\n",
        "\n",
        "1. **Compute Posterior Probability for Each Class:**\n",
        "   - For a new instance with feature set \\(X = \\{x_1, x_2, ..., x_n\\}\\), calculate the posterior probability for each class \\(C\\):\n",
        "\n",
        "     $$\n",
        "     P(C|X) \\propto P(X|C) \\cdot P(C)\n",
        "     $$\n",
        "\n",
        "   - Using the independence assumption:\n",
        "\n",
        "     $$\n",
        "     P(X|C) = P(x_1|C) \\cdot P(x_2|C) \\cdot ... \\cdot P(x_n|C)\n",
        "     $$\n",
        "\n",
        "2. **Choose the Class with the Highest Probability:**\n",
        "   - Compare the posterior probabilities for all classes.\n",
        "   - Assign the class with the highest probability as the prediction.\n",
        "\n",
        "\n",
        "\n",
        "## 4. Example Workflow\n",
        "\n",
        "Let’s classify an email as Spam or Not Spam:\n",
        "\n",
        "1. **Training data:**\n",
        "   - Words like \"win\", \"money\", and \"offer\" appear more frequently in spam emails.\n",
        "   - Words like \"meeting\" or \"schedule\" appear more frequently in non-spam emails.\n",
        "\n",
        "2. **Probabilities:**\n",
        "   - Calculate \\(P(\\text{Spam})\\) and \\(P(\\text{Not Spam})\\).\n",
        "   - Calculate likelihoods for each word, e.g., \\(P(\\text{win}|\\text{Spam})\\), \\(P(\\text{money}|\\text{Not Spam})\\), etc.\n",
        "\n",
        "3. **For a new email:**\n",
        "   - Combine probabilities for all words in the email for both classes.\n",
        "   - Choose the class with the highest posterior probability.\n",
        "\n",
        "\n",
        "\n",
        "## 5. Advantages\n",
        "\n",
        "- Simple, fast, and effective.\n",
        "- Works well even with limited data.\n",
        "- Handles irrelevant features gracefully.\n",
        "\n",
        "\n",
        "\n",
        "## 6. Limitations\n",
        "\n",
        "- Assumes feature independence, which might not hold in real-world data.\n",
        "- Struggles with datasets where features have strong correlations.\n"
      ],
      "metadata": {
        "id": "y3koncIlthAT"
      }
    },
    {
      "cell_type": "code",
      "source": [
        "import numpy as np\n",
        "import pandas as pd\n",
        "from sklearn.datasets import load_iris\n",
        "from sklearn.naive_bayes import GaussianNB\n",
        "from sklearn.model_selection import train_test_split\n",
        "from sklearn.metrics import classification_report,accuracy_score,confusion_matrix\n",
        "import matplotlib.pyplot as plt\n",
        "import seaborn as sns"
      ],
      "metadata": {
        "id": "ms_9XAM_MN6o"
      },
      "execution_count": 3,
      "outputs": []
    },
    {
      "cell_type": "code",
      "source": [
        "iris=load_iris()\n",
        "x=iris.data\n",
        "y=iris.target\n",
        "\n",
        "df=pd.DataFrame(data=x, columns=iris.feature_names)\n",
        "df['target']=y\n",
        "print(df.head())\n",
        "\n",
        "#how features are distributed to classes\n",
        "print(\"Class Distribution:\")\n",
        "print(df['target'].value_counts())"
      ],
      "metadata": {
        "colab": {
          "base_uri": "https://localhost:8080/"
        },
        "id": "ecW-VbztNRsa",
        "outputId": "ade376f5-2011-418b-bdb8-0ef569292ef1"
      },
      "execution_count": 8,
      "outputs": [
        {
          "output_type": "stream",
          "name": "stdout",
          "text": [
            "   sepal length (cm)  sepal width (cm)  petal length (cm)  petal width (cm)  target\n",
            "0                5.1               3.5                1.4               0.2       0\n",
            "1                4.9               3.0                1.4               0.2       0\n",
            "2                4.7               3.2                1.3               0.2       0\n",
            "3                4.6               3.1                1.5               0.2       0\n",
            "4                5.0               3.6                1.4               0.2       0\n",
            "Class Distribution:\n",
            "target\n",
            "0    50\n",
            "1    50\n",
            "2    50\n",
            "Name: count, dtype: int64\n"
          ]
        }
      ]
    },
    {
      "cell_type": "code",
      "source": [
        "#split the data into training and testing sets\n",
        "x_train, x_test, y_train, y_test = train_test_split(x,y, test_size=0.70, random_state=42)"
      ],
      "metadata": {
        "id": "GWX_yS-KOR9E"
      },
      "execution_count": 9,
      "outputs": []
    },
    {
      "cell_type": "code",
      "source": [
        "#shapes to verify the training and testing data\n",
        "print(f\"Training Data Shape: {x_train.shape}\")\n",
        "print(f\"Testing Data Shape: {x_test.shape}\")"
      ],
      "metadata": {
        "colab": {
          "base_uri": "https://localhost:8080/"
        },
        "id": "ra0rC8g1PiPS",
        "outputId": "26d546d8-cfee-4e3e-d012-093129361b20"
      },
      "execution_count": 10,
      "outputs": [
        {
          "output_type": "stream",
          "name": "stdout",
          "text": [
            "Training Data Shape: (45, 4)\n",
            "Testing Data Shape: (105, 4)\n"
          ]
        }
      ]
    },
    {
      "cell_type": "code",
      "source": [
        "#train uisng Gaussian Naive Bayes classifier\n",
        "gnb= GaussianNB()\n",
        "gnb.fit(x_train,y_train)\n",
        "\n",
        "\n",
        "y_pred= gnb.predict(x_test)"
      ],
      "metadata": {
        "id": "-1WUYBf4Pwq9"
      },
      "execution_count": 11,
      "outputs": []
    },
    {
      "cell_type": "code",
      "source": [
        "#Generate a confusion matrix\n",
        "cm= confusion_matrix(y_test, y_pred)\n",
        "\n",
        "#plot the confusion matrix\n",
        "plt.figure(figsize=(8,6))\n",
        "sns.heatmap(cm, annot=True, fmt='d', cmap='Blues', xticklabels=class_names, yticklabels=class_names)\n",
        "plt.title('Confusion Matrix')\n",
        "plt.xlabel('predicted class')\n",
        "plt.ylabel('true class')\n",
        "plt.show()"
      ],
      "metadata": {
        "colab": {
          "base_uri": "https://localhost:8080/",
          "height": 564
        },
        "id": "HV9C-oCfQKKf",
        "outputId": "442b0675-5b24-4449-a291-370a7d529d8c"
      },
      "execution_count": 14,
      "outputs": [
        {
          "output_type": "display_data",
          "data": {
            "text/plain": [
              "<Figure size 800x600 with 2 Axes>"
            ],
            "image/png": "[encoded data removed]"
          },
          "metadata": {}
        }
      ]
    },
    {
      "cell_type": "code",
      "source": [
        "# Print classification report\n",
        "print(\"Classification Report:\")\n",
        "print(classification_report(y_test, y_pred, target_names=class_names))\n",
        "\n",
        "# Print accuracy\n",
        "accuracy = accuracy_score(y_test, y_pred)\n",
        "print(f\"Accuracy: {accuracy:.2f}\")"
      ],
      "metadata": {
        "colab": {
          "base_uri": "https://localhost:8080/"
        },
        "id": "IHiHhe6lRXG0",
        "outputId": "77a6cd2e-d1a0-47f1-8d8d-3d0d42bbd17b"
      },
      "execution_count": 15,
      "outputs": [
        {
          "output_type": "stream",
          "name": "stdout",
          "text": [
            "Classification Report:\n",
            "              precision    recall  f1-score   support\n",
            "\n",
            "      setosa       1.00      1.00      1.00        40\n",
            "  versicolor       0.94      0.88      0.91        33\n",
            "   virginica       0.88      0.94      0.91        32\n",
            "\n",
            "    accuracy                           0.94       105\n",
            "   macro avg       0.94      0.94      0.94       105\n",
            "weighted avg       0.94      0.94      0.94       105\n",
            "\n",
            "Accuracy: 0.94\n"
          ]
        }
      ]
    },
    {
      "cell_type": "markdown",
      "source": [
        "# Conclusion\n",
        "\n",
        "Based on the metrics and visualizations:\n",
        "\n",
        "  Confusion Matrix: Displays how many instances were correctly or incorrectly classified.\n",
        "\n",
        "  Classification Report: Provides precision, recall, F1-score, and support for each class.\n",
        "\n",
        "  Accuracy: Quantifies overall performance.\n",
        "\n",
        "  Decision Boundaries: Visualizes how the model separates the classes.\n",
        "\n",
        "Example Results:\n",
        "\n",
        "  Accuracy: ~94% (may vary due to random state).\n",
        "\n",
        "  Strengths: Simple and efficient, especially on small datasets like Iris.\n",
        "  \n",
        "  Limitations: Assumes feature independence, which may not always hold true.\n",
        "\n"
      ],
      "metadata": {
        "id": "lyh-sbdER0kc"
      }
    },
    {
      "cell_type": "markdown",
      "source": [
        "# 1. Gaussian Naive Bayes\n",
        "\n",
        "## Assumption:\n",
        "- Features are **continuous** and follow a **Gaussian (normal) distribution**.\n",
        "- If features deviate significantly from a Gaussian distribution, this might not work well unless preprocessing techniques (like transformations) are applied.\n",
        "\n",
        "## Formula:\n",
        "The likelihood \\( P(x \\mid C) \\) is calculated using the probability density function (PDF) of a Gaussian distribution:\n",
        "$$\n",
        "P(x \\mid C) = \\frac{1}{\\sqrt{2\\pi \\sigma^2}} e^{-\\frac{(x - \\mu)^2}{2\\sigma^2}}\n",
        "$$\n",
        "\n",
        "Where:\n",
        "- \\( \\mu \\): Mean of the feature in class \\( C \\)\n",
        "- \\( \\sigma^2 \\): Variance of the feature in class \\( C \\)\n",
        "\n",
        "## When to Use:\n",
        "- Works well for **continuous numerical features**.\n",
        "- **Example**: Iris dataset (where petal length/width are continuous variables).\n",
        "\n",
        "## Applications:\n",
        "- Predicting whether a tumor is **malignant or benign** (based on continuous data like size or age).\n",
        "- **Medical diagnosis** problems involving continuous patient attributes.\n",
        "\n",
        "---\n",
        "\n",
        "# 2. Multinomial Naive Bayes\n",
        "\n",
        "## Assumption:\n",
        "- Features represent **discrete counts** (e.g., word frequencies, term counts, or categorical data).\n",
        "- Used mainly for **text classification tasks**.\n",
        "\n",
        "## Formula:\n",
        "For each feature \\( x \\) in class \\( C \\):\n",
        "$$\n",
        "P(x \\mid C) = \\frac{n_{x \\mid C} + \\alpha}{n_C + \\alpha d}\n",
        "$$\n",
        "\n",
        "Where:\n",
        "- \\( n_{x \\mid C} \\): Count of feature \\( x \\) in class \\( C \\)\n",
        "- \\( n_C \\): Total count of all features in class \\( C \\)\n",
        "- \\( \\alpha \\): Smoothing parameter (Laplace smoothing)\n",
        "- \\( d \\): Total number of features\n",
        "\n",
        "## When to Use:\n",
        "- Suitable for **discrete** features (e.g., word counts in documents or frequency data).\n",
        "- **Example**: Spam detection, sentiment analysis.\n",
        "\n",
        "## Applications:\n",
        "- **Text classification** (e.g., classifying emails as spam or non-spam).\n",
        "- **Natural Language Processing (NLP)** tasks like topic modeling.\n",
        "\n",
        "---\n",
        "\n",
        "# 3. Bernoulli Naive Bayes\n",
        "\n",
        "## Assumption:\n",
        "- Features are **binary** (0 or 1).\n",
        "- Indicates whether a feature is **present (1)** or **absent (0)**.\n",
        "\n",
        "## Formula:\n",
        "For each feature \\( x \\) in class \\( C \\):\n",
        "$$\n",
        "P(x \\mid C) = p^x \\cdot (1 - p)^{1 - x}\n",
        "$$\n",
        "\n",
        "Where:\n",
        "- \\( p \\): Probability of feature \\( x \\) being 1 in class \\( C \\)\n",
        "\n",
        "## When to Use:\n",
        "- Works well with **binary data** or data that can be binarized.\n",
        "- **Example**: A document can be represented as a binary vector where 1 indicates a word's presence and 0 indicates its absence.\n",
        "\n",
        "## Applications:\n",
        "- **Sentiment analysis** (presence/absence of positive or negative words).\n",
        "- **Spam detection** (presence/absence of specific spam keywords).\n",
        "- **Recommendation systems** (whether a user has interacted with an item or not).\n",
        "\n",
        "---\n",
        "\n",
        "# Choosing the Right Naive Bayes Variant\n",
        "\n",
        "| **Type**               | **Feature Type**               | **Example Applications**                     |\n",
        "|------------------------|---------------------------------|-----------------------------------------------|\n",
        "| Gaussian Naive Bayes    | Continuous numerical features  | Medical diagnosis, real-valued datasets       |\n",
        "| Multinomial Naive Bayes | Discrete count features        | Spam detection, document classification       |\n",
        "| Bernoulli Naive Bayes   | Binary features (0/1)          | Sentiment analysis, recommendation systems    |\n",
        "\n",
        "---\n",
        "\n",
        "# Example Scenarios\n",
        "\n",
        "## Gaussian Naive Bayes:\n",
        "- **Predicting loan approval** based on income, age, and loan amount (all continuous).\n",
        "\n",
        "## Multinomial Naive Bayes:\n",
        "- **Classifying news articles** into categories (e.g., sports, politics) using word frequency data.\n",
        "\n",
        "## Bernoulli Naive Bayes:\n",
        "- **Sentiment analysis** where the feature vector indicates the presence/absence of specific words.\n"
      ],
      "metadata": {
        "id": "xuYGmzbzamla"
      }
    }
  ]
}